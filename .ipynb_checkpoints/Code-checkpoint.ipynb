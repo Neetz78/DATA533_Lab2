{
 "cells": [
  {
   "cell_type": "code",
   "execution_count": 1,
   "id": "895d1598-e17a-4f57-afd7-9fa6838c0042",
   "metadata": {},
   "outputs": [],
   "source": [
    "import pandas as pd\n",
    "import recipes.Veg.veg as veg\n",
    "import recipes.NonVeg.nveg as nveg\n",
    "from recipes.Veg import easy,intermediate,difficult\n",
    "from recipes.NonVeg import easy,intermediate,difficult"
   ]
  },
  {
   "cell_type": "code",
   "execution_count": 6,
   "id": "a055ab27-b073-4c71-b9c5-51abd6a65c06",
   "metadata": {},
   "outputs": [],
   "source": [
    "data = pd.read_csv(\"Recipes.csv\",encoding = \"ISO-8859-1\", engine='python')"
   ]
  },
  {
   "cell_type": "code",
   "execution_count": 7,
   "id": "0c22f1d9-203a-420a-ad6d-b39442763787",
   "metadata": {},
   "outputs": [
    {
     "name": "stdout",
     "output_type": "stream",
     "text": [
      "Please select your food preference\n"
     ]
    },
    {
     "name": "stdin",
     "output_type": "stream",
     "text": [
      "Vegetarian or Non-Vegetarian : Non-Vegetarian\n"
     ]
    },
    {
     "name": "stdout",
     "output_type": "stream",
     "text": [
      "Choose the difficulty level\n"
     ]
    },
    {
     "name": "stdin",
     "output_type": "stream",
     "text": [
      "Easy , Medium , Hard : hard\n"
     ]
    },
    {
     "name": "stdout",
     "output_type": "stream",
     "text": [
      "Please select from the below ingredients\n"
     ]
    },
    {
     "ename": "NameError",
     "evalue": "name 'x' is not defined",
     "output_type": "error",
     "traceback": [
      "\u001b[0;31m---------------------------------------------------------------------------\u001b[0m",
      "\u001b[0;31mNameError\u001b[0m                                 Traceback (most recent call last)",
      "\u001b[0;32m<ipython-input-7-d0813acef454>\u001b[0m in \u001b[0;36m<module>\u001b[0;34m\u001b[0m\n\u001b[1;32m     33\u001b[0m     \u001b[0;32melse\u001b[0m\u001b[0;34m:\u001b[0m\u001b[0;34m\u001b[0m\u001b[0;34m\u001b[0m\u001b[0m\n\u001b[1;32m     34\u001b[0m         \u001b[0ma\u001b[0m\u001b[0;34m=\u001b[0m\u001b[0mdifficult\u001b[0m\u001b[0;34m.\u001b[0m\u001b[0mdifficult\u001b[0m\u001b[0;34m(\u001b[0m\u001b[0mdata\u001b[0m\u001b[0;34m)\u001b[0m\u001b[0;34m\u001b[0m\u001b[0;34m\u001b[0m\u001b[0m\n\u001b[0;32m---> 35\u001b[0;31m         \u001b[0ma\u001b[0m\u001b[0;34m.\u001b[0m\u001b[0mselect\u001b[0m\u001b[0;34m(\u001b[0m\u001b[0;34m)\u001b[0m\u001b[0;34m\u001b[0m\u001b[0;34m\u001b[0m\u001b[0m\n\u001b[0m\u001b[1;32m     36\u001b[0m         \u001b[0ma\u001b[0m\u001b[0;34m.\u001b[0m\u001b[0msearch\u001b[0m\u001b[0;34m(\u001b[0m\u001b[0;34m)\u001b[0m\u001b[0;34m\u001b[0m\u001b[0;34m\u001b[0m\u001b[0m\n\u001b[1;32m     37\u001b[0m         \u001b[0ma\u001b[0m\u001b[0;34m.\u001b[0m\u001b[0mdisplay\u001b[0m\u001b[0;34m(\u001b[0m\u001b[0;34m)\u001b[0m\u001b[0;34m\u001b[0m\u001b[0;34m\u001b[0m\u001b[0m\n",
      "\u001b[0;32m~/Desktop/Neethu/Course/DATA533/DATA533_Lab2/recipes/NonVeg/difficult.py\u001b[0m in \u001b[0;36mselect\u001b[0;34m(self)\u001b[0m\n\u001b[1;32m      7\u001b[0m     \u001b[0;32mdef\u001b[0m \u001b[0mselect\u001b[0m\u001b[0;34m(\u001b[0m\u001b[0mself\u001b[0m\u001b[0;34m)\u001b[0m\u001b[0;34m:\u001b[0m\u001b[0;34m\u001b[0m\u001b[0;34m\u001b[0m\u001b[0m\n\u001b[1;32m      8\u001b[0m         \u001b[0mprint\u001b[0m\u001b[0;34m(\u001b[0m\u001b[0;34m\"Please select from the below ingredients\"\u001b[0m\u001b[0;34m)\u001b[0m\u001b[0;34m\u001b[0m\u001b[0;34m\u001b[0m\u001b[0m\n\u001b[0;32m----> 9\u001b[0;31m         \u001b[0mdifficult\u001b[0m\u001b[0;34m.\u001b[0m\u001b[0mv\u001b[0m\u001b[0;34m=\u001b[0m\u001b[0;34m[\u001b[0m\u001b[0mitem\u001b[0m \u001b[0;32mfor\u001b[0m \u001b[0mitem\u001b[0m \u001b[0;32min\u001b[0m \u001b[0minput\u001b[0m\u001b[0;34m(\u001b[0m\u001b[0;34mf\"{self.x.I[5],self.x.I[0],self.x.I[6],self.x.I[17],self.x.I[18],x.I[7]}:\"\u001b[0m\u001b[0;34m)\u001b[0m\u001b[0;34m.\u001b[0m\u001b[0msplit\u001b[0m\u001b[0;34m(\u001b[0m\u001b[0;34m)\u001b[0m\u001b[0;34m]\u001b[0m\u001b[0;34m\u001b[0m\u001b[0;34m\u001b[0m\u001b[0m\n\u001b[0m\u001b[1;32m     10\u001b[0m \u001b[0;34m\u001b[0m\u001b[0m\n\u001b[1;32m     11\u001b[0m \u001b[0;34m\u001b[0m\u001b[0m\n",
      "\u001b[0;31mNameError\u001b[0m: name 'x' is not defined"
     ]
    }
   ],
   "source": [
    "print(\"Please select your food preference\")\n",
    "perf = input(\"Vegetarian or Non-Vegetarian :\")\n",
    "if perf == \"Vegetarian\":\n",
    "    lev = veg.level()\n",
    "    if lev == \"Easy\":\n",
    "        a=easy.easy(data)\n",
    "        a.select()\n",
    "        a.search()\n",
    "        a.display()\n",
    "    elif lev == \"Medium\":\n",
    "        a=intermediate.medium(data)\n",
    "        a.select()\n",
    "        a.search()\n",
    "        a.display()\n",
    "    else:\n",
    "        a=difficult.difficult(data)\n",
    "        a.select()\n",
    "        a.search()\n",
    "        a.display()\n",
    "    \n",
    "else:\n",
    "    nlev = nveg.level()\n",
    "    if nlev == \"Easy\":\n",
    "        a=easy.easy(data)\n",
    "        a.select()\n",
    "        a.search()\n",
    "        a.display()\n",
    "    elif nlev == \"Medium\":\n",
    "        a=intermediate.medium(data)\n",
    "        a.select()\n",
    "        a.search()\n",
    "        a.display()\n",
    "    else:\n",
    "        a=difficult.difficult(data)\n",
    "        a.select()\n",
    "        a.search()\n",
    "        a.display()"
   ]
  },
  {
   "cell_type": "code",
   "execution_count": null,
   "id": "6ac01542-2e3d-4118-9be3-2fc86be2d6b8",
   "metadata": {},
   "outputs": [],
   "source": []
  }
 ],
 "metadata": {
  "kernelspec": {
   "display_name": "Python 3",
   "language": "python",
   "name": "python3"
  },
  "language_info": {
   "codemirror_mode": {
    "name": "ipython",
    "version": 3
   },
   "file_extension": ".py",
   "mimetype": "text/x-python",
   "name": "python",
   "nbconvert_exporter": "python",
   "pygments_lexer": "ipython3",
   "version": "3.9.5"
  }
 },
 "nbformat": 4,
 "nbformat_minor": 5
}

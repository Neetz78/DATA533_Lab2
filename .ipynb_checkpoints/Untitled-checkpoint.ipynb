{
 "cells": [
  {
   "cell_type": "code",
   "execution_count": 1,
   "id": "a717400a-14d7-40c6-a5ee-c60f0a9c18d4",
   "metadata": {},
   "outputs": [],
   "source": [
    "import pandas as pd\n",
    "import recipes.Veg.veg as veg\n",
    "import recipes.NonVeg.nveg as nveg\n",
    "import recipes.Veg.easy as e\n",
    "import recipes.NonVeg.easy as ne"
   ]
  },
  {
   "cell_type": "code",
   "execution_count": 2,
   "id": "a9867d49-e270-4593-8184-d5473bbd06b4",
   "metadata": {},
   "outputs": [
    {
     "data": {
      "text/html": [
       "<div>\n",
       "<style scoped>\n",
       "    .dataframe tbody tr th:only-of-type {\n",
       "        vertical-align: middle;\n",
       "    }\n",
       "\n",
       "    .dataframe tbody tr th {\n",
       "        vertical-align: top;\n",
       "    }\n",
       "\n",
       "    .dataframe thead th {\n",
       "        text-align: right;\n",
       "    }\n",
       "</style>\n",
       "<table border=\"1\" class=\"dataframe\">\n",
       "  <thead>\n",
       "    <tr style=\"text-align: right;\">\n",
       "      <th></th>\n",
       "      <th>I</th>\n",
       "      <th>R1</th>\n",
       "      <th>Y1</th>\n",
       "      <th>R2</th>\n",
       "      <th>Y2</th>\n",
       "      <th>R3</th>\n",
       "      <th>Y3</th>\n",
       "      <th>R4</th>\n",
       "      <th>Y4</th>\n",
       "      <th>R5</th>\n",
       "      <th>Y5</th>\n",
       "      <th>R6</th>\n",
       "      <th>Y6</th>\n",
       "      <th>N</th>\n",
       "    </tr>\n",
       "  </thead>\n",
       "  <tbody>\n",
       "    <tr>\n",
       "      <th>0</th>\n",
       "      <td>Egg</td>\n",
       "      <td>Boiled eggs</td>\n",
       "      <td>https://www.simplyrecipes.com/recipes/how_to_m...</td>\n",
       "      <td>Scrambled eggs</td>\n",
       "      <td>https://www.loveandlemons.com/scrambled-eggs-r...</td>\n",
       "      <td>Sunny side up</td>\n",
       "      <td>https://www.cookinglight.com/recipes/pristine-...</td>\n",
       "      <td>Poached eggs</td>\n",
       "      <td>https://downshiftology.com/recipes/poached-egg...</td>\n",
       "      <td>Devils eggs</td>\n",
       "      <td>https://www.foodnetwork.com/recipes/classic-de...</td>\n",
       "      <td>Egg Biryani</td>\n",
       "      <td>https://www.indianhealthyrecipes.com/egg-birya...</td>\n",
       "      <td>155</td>\n",
       "    </tr>\n",
       "    <tr>\n",
       "      <th>1</th>\n",
       "      <td>Bread</td>\n",
       "      <td>Butter toast</td>\n",
       "      <td>https://jerryjamesstone.com/recipe/best-toast-...</td>\n",
       "      <td>French toast</td>\n",
       "      <td>https://www.foodnetwork.com/recipes/robert-irv...</td>\n",
       "      <td>Sandwich</td>\n",
       "      <td>https://www.bbcgoodfood.com/recipes/collection...</td>\n",
       "      <td>Garlic bread</td>\n",
       "      <td>https://www.simplyrecipes.com/recipes/garlic_b...</td>\n",
       "      <td>Bread pakoda</td>\n",
       "      <td>https://www.indianhealthyrecipes.com/bread-pak...</td>\n",
       "      <td>Bread Upma</td>\n",
       "      <td>https://www.indianhealthyrecipes.com/bread-upm...</td>\n",
       "      <td>265</td>\n",
       "    </tr>\n",
       "    <tr>\n",
       "      <th>2</th>\n",
       "      <td>Milk</td>\n",
       "      <td>Coffee</td>\n",
       "      <td>https://www.bbcgoodfood.com/recipes/cappuccino...</td>\n",
       "      <td>Tea</td>\n",
       "      <td>https://foodviva.com/tea-recipes/milk-tea-reci...</td>\n",
       "      <td>Hot chocolate</td>\n",
       "      <td>https://celebratingsweets.com/homemade-hot-cho...</td>\n",
       "      <td>Milk Shake</td>\n",
       "      <td>https://www.delish.com/cooking/recipe-ideas/a2...</td>\n",
       "      <td>Rabdi</td>\n",
       "      <td>https://www.vegrecipesofindia.com/rabri-recipe...</td>\n",
       "      <td>Kulfi</td>\n",
       "      <td>https://www.kitchenathoskins.com/2017/07/20/ea...</td>\n",
       "      <td>42</td>\n",
       "    </tr>\n",
       "    <tr>\n",
       "      <th>3</th>\n",
       "      <td>Flour</td>\n",
       "      <td>Roti</td>\n",
       "      <td>https://www.cookwithmanali.com/roti-recipe/   ...</td>\n",
       "      <td>Pancakes</td>\n",
       "      <td>https://www.allrecipes.com/recipe/21014/good-o...</td>\n",
       "      <td>Bread</td>\n",
       "      <td>https://butterwithasideofbread.com/homemade-br...</td>\n",
       "      <td>Crepes</td>\n",
       "      <td>https://www.allrecipes.com/recipe/16383/basic-...</td>\n",
       "      <td>Tacos</td>\n",
       "      <td>https://www.thewholesomedish.com/the-best-home...</td>\n",
       "      <td>Muffins</td>\n",
       "      <td>https://www.allrecipes.com/recipe/6874/best-ev...</td>\n",
       "      <td>364</td>\n",
       "    </tr>\n",
       "    <tr>\n",
       "      <th>4</th>\n",
       "      <td>Rice</td>\n",
       "      <td>Flavoured rice</td>\n",
       "      <td>https://www.recipetineats.com/buttery-seasoned...</td>\n",
       "      <td>Porridge</td>\n",
       "      <td>https://www.allrecipes.com/recipe/73155/porrid...</td>\n",
       "      <td>Sushi</td>\n",
       "      <td>https://www.allrecipes.com/recipe/99211/perfec...</td>\n",
       "      <td>Fried rice</td>\n",
       "      <td>https://www.gimmesomeoven.com/fried-rice-recip...</td>\n",
       "      <td>Biryani</td>\n",
       "      <td>https://www.indianhealthyrecipes.com/veg-birya...</td>\n",
       "      <td>Dosa</td>\n",
       "      <td>https://www.indianhealthyrecipes.com/dosa-reci...</td>\n",
       "      <td>130</td>\n",
       "    </tr>\n",
       "  </tbody>\n",
       "</table>\n",
       "</div>"
      ],
      "text/plain": [
       "       I              R1                                                 Y1  \\\n",
       "0    Egg     Boiled eggs  https://www.simplyrecipes.com/recipes/how_to_m...   \n",
       "1  Bread    Butter toast  https://jerryjamesstone.com/recipe/best-toast-...   \n",
       "2   Milk          Coffee  https://www.bbcgoodfood.com/recipes/cappuccino...   \n",
       "3  Flour            Roti  https://www.cookwithmanali.com/roti-recipe/   ...   \n",
       "4   Rice  Flavoured rice  https://www.recipetineats.com/buttery-seasoned...   \n",
       "\n",
       "               R2                                                 Y2  \\\n",
       "0  Scrambled eggs  https://www.loveandlemons.com/scrambled-eggs-r...   \n",
       "1    French toast  https://www.foodnetwork.com/recipes/robert-irv...   \n",
       "2             Tea  https://foodviva.com/tea-recipes/milk-tea-reci...   \n",
       "3        Pancakes  https://www.allrecipes.com/recipe/21014/good-o...   \n",
       "4        Porridge  https://www.allrecipes.com/recipe/73155/porrid...   \n",
       "\n",
       "              R3                                                 Y3  \\\n",
       "0  Sunny side up  https://www.cookinglight.com/recipes/pristine-...   \n",
       "1       Sandwich  https://www.bbcgoodfood.com/recipes/collection...   \n",
       "2  Hot chocolate  https://celebratingsweets.com/homemade-hot-cho...   \n",
       "3          Bread  https://butterwithasideofbread.com/homemade-br...   \n",
       "4          Sushi  https://www.allrecipes.com/recipe/99211/perfec...   \n",
       "\n",
       "             R4                                                 Y4  \\\n",
       "0  Poached eggs  https://downshiftology.com/recipes/poached-egg...   \n",
       "1  Garlic bread  https://www.simplyrecipes.com/recipes/garlic_b...   \n",
       "2    Milk Shake  https://www.delish.com/cooking/recipe-ideas/a2...   \n",
       "3        Crepes  https://www.allrecipes.com/recipe/16383/basic-...   \n",
       "4    Fried rice  https://www.gimmesomeoven.com/fried-rice-recip...   \n",
       "\n",
       "             R5                                                 Y5  \\\n",
       "0   Devils eggs  https://www.foodnetwork.com/recipes/classic-de...   \n",
       "1  Bread pakoda  https://www.indianhealthyrecipes.com/bread-pak...   \n",
       "2         Rabdi  https://www.vegrecipesofindia.com/rabri-recipe...   \n",
       "3         Tacos  https://www.thewholesomedish.com/the-best-home...   \n",
       "4       Biryani  https://www.indianhealthyrecipes.com/veg-birya...   \n",
       "\n",
       "            R6                                                 Y6    N  \n",
       "0  Egg Biryani  https://www.indianhealthyrecipes.com/egg-birya...  155  \n",
       "1   Bread Upma  https://www.indianhealthyrecipes.com/bread-upm...  265  \n",
       "2        Kulfi  https://www.kitchenathoskins.com/2017/07/20/ea...   42  \n",
       "3      Muffins  https://www.allrecipes.com/recipe/6874/best-ev...  364  \n",
       "4         Dosa  https://www.indianhealthyrecipes.com/dosa-reci...  130  "
      ]
     },
     "execution_count": 2,
     "metadata": {},
     "output_type": "execute_result"
    }
   ],
   "source": [
    "data = pd.read_csv(\"Recipes.csv\",encoding = \"ISO-8859-1\", engine='python')\n",
    "\n",
    "data.head(5)"
   ]
  },
  {
   "cell_type": "code",
   "execution_count": 16,
   "id": "9ff3378a-1221-485a-8595-631870a7e65d",
   "metadata": {},
   "outputs": [
    {
     "ename": "KeyboardInterrupt",
     "evalue": "Interrupted by user",
     "output_type": "error",
     "traceback": [
      "\u001b[0;31m---------------------------------------------------------------------------\u001b[0m",
      "\u001b[0;31mKeyboardInterrupt\u001b[0m                         Traceback (most recent call last)",
      "\u001b[0;32m<ipython-input-16-eff1acd88479>\u001b[0m in \u001b[0;36m<module>\u001b[0;34m\u001b[0m\n\u001b[0;32m----> 1\u001b[0;31m \u001b[0mv\u001b[0m\u001b[0;34m=\u001b[0m \u001b[0minput\u001b[0m\u001b[0;34m(\u001b[0m\u001b[0;34mf\"{data.I[5],data.I[0],data.I[6],data.I[17]}: \"\u001b[0m\u001b[0;34m)\u001b[0m\u001b[0;34m\u001b[0m\u001b[0;34m\u001b[0m\u001b[0m\n\u001b[0m",
      "\u001b[0;32m/opt/miniconda3/lib/python3.9/site-packages/ipykernel/kernelbase.py\u001b[0m in \u001b[0;36mraw_input\u001b[0;34m(self, prompt)\u001b[0m\n\u001b[1;32m    846\u001b[0m                 \u001b[0;34m\"raw_input was called, but this frontend does not support input requests.\"\u001b[0m\u001b[0;34m\u001b[0m\u001b[0;34m\u001b[0m\u001b[0m\n\u001b[1;32m    847\u001b[0m             )\n\u001b[0;32m--> 848\u001b[0;31m         return self._input_request(str(prompt),\n\u001b[0m\u001b[1;32m    849\u001b[0m             \u001b[0mself\u001b[0m\u001b[0;34m.\u001b[0m\u001b[0m_parent_ident\u001b[0m\u001b[0;34m,\u001b[0m\u001b[0;34m\u001b[0m\u001b[0;34m\u001b[0m\u001b[0m\n\u001b[1;32m    850\u001b[0m             \u001b[0mself\u001b[0m\u001b[0;34m.\u001b[0m\u001b[0m_parent_header\u001b[0m\u001b[0;34m,\u001b[0m\u001b[0;34m\u001b[0m\u001b[0;34m\u001b[0m\u001b[0m\n",
      "\u001b[0;32m/opt/miniconda3/lib/python3.9/site-packages/ipykernel/kernelbase.py\u001b[0m in \u001b[0;36m_input_request\u001b[0;34m(self, prompt, ident, parent, password)\u001b[0m\n\u001b[1;32m    890\u001b[0m             \u001b[0;32mexcept\u001b[0m \u001b[0mKeyboardInterrupt\u001b[0m\u001b[0;34m:\u001b[0m\u001b[0;34m\u001b[0m\u001b[0;34m\u001b[0m\u001b[0m\n\u001b[1;32m    891\u001b[0m                 \u001b[0;31m# re-raise KeyboardInterrupt, to truncate traceback\u001b[0m\u001b[0;34m\u001b[0m\u001b[0;34m\u001b[0m\u001b[0;34m\u001b[0m\u001b[0m\n\u001b[0;32m--> 892\u001b[0;31m                 \u001b[0;32mraise\u001b[0m \u001b[0mKeyboardInterrupt\u001b[0m\u001b[0;34m(\u001b[0m\u001b[0;34m\"Interrupted by user\"\u001b[0m\u001b[0;34m)\u001b[0m \u001b[0;32mfrom\u001b[0m \u001b[0;32mNone\u001b[0m\u001b[0;34m\u001b[0m\u001b[0;34m\u001b[0m\u001b[0m\n\u001b[0m\u001b[1;32m    893\u001b[0m             \u001b[0;32mexcept\u001b[0m \u001b[0mException\u001b[0m \u001b[0;32mas\u001b[0m \u001b[0me\u001b[0m\u001b[0;34m:\u001b[0m\u001b[0;34m\u001b[0m\u001b[0;34m\u001b[0m\u001b[0m\n\u001b[1;32m    894\u001b[0m                 \u001b[0mself\u001b[0m\u001b[0;34m.\u001b[0m\u001b[0mlog\u001b[0m\u001b[0;34m.\u001b[0m\u001b[0mwarning\u001b[0m\u001b[0;34m(\u001b[0m\u001b[0;34m\"Invalid Message:\"\u001b[0m\u001b[0;34m,\u001b[0m \u001b[0mexc_info\u001b[0m\u001b[0;34m=\u001b[0m\u001b[0;32mTrue\u001b[0m\u001b[0;34m)\u001b[0m\u001b[0;34m\u001b[0m\u001b[0;34m\u001b[0m\u001b[0m\n",
      "\u001b[0;31mKeyboardInterrupt\u001b[0m: Interrupted by user"
     ]
    }
   ],
   "source": [
    "v= input(f\"{data.I[5],data.I[0],data.I[6],data.I[17]}: \")"
   ]
  },
  {
   "cell_type": "code",
   "execution_count": 3,
   "id": "84cec6d7-9e49-4db9-9484-7e125b4583e7",
   "metadata": {},
   "outputs": [
    {
     "name": "stdout",
     "output_type": "stream",
     "text": [
      "Please select your food preference\n"
     ]
    },
    {
     "name": "stdin",
     "output_type": "stream",
     "text": [
      "Vegetarian or Non-Vegetarian : Non-Vegetarian\n"
     ]
    }
   ],
   "source": [
    "print(\"Please select your food preference\")\n",
    "perf = input(\"Vegetarian or Non-Vegetarian :\")\n"
   ]
  },
  {
   "cell_type": "code",
   "execution_count": 4,
   "id": "a76151e1-dc89-4acf-8435-58161fee0f25",
   "metadata": {},
   "outputs": [
    {
     "name": "stdout",
     "output_type": "stream",
     "text": [
      "Choose the difficulty level\n"
     ]
    },
    {
     "name": "stdin",
     "output_type": "stream",
     "text": [
      "Easy , Medium , Hard : Easy\n"
     ]
    },
    {
     "ename": "AttributeError",
     "evalue": "module 'recipes.NonVeg' has no attribute 'easy'",
     "output_type": "error",
     "traceback": [
      "\u001b[0;31m---------------------------------------------------------------------------\u001b[0m",
      "\u001b[0;31mAttributeError\u001b[0m                            Traceback (most recent call last)",
      "\u001b[0;32m<ipython-input-4-17f3cde51050>\u001b[0m in \u001b[0;36m<module>\u001b[0;34m\u001b[0m\n\u001b[1;32m      2\u001b[0m     \u001b[0mveg\u001b[0m\u001b[0;34m.\u001b[0m\u001b[0mlevel\u001b[0m\u001b[0;34m(\u001b[0m\u001b[0;34m)\u001b[0m\u001b[0;34m\u001b[0m\u001b[0;34m\u001b[0m\u001b[0m\n\u001b[1;32m      3\u001b[0m \u001b[0;32melse\u001b[0m\u001b[0;34m:\u001b[0m\u001b[0;34m\u001b[0m\u001b[0;34m\u001b[0m\u001b[0m\n\u001b[0;32m----> 4\u001b[0;31m     \u001b[0mnveg\u001b[0m\u001b[0;34m.\u001b[0m\u001b[0mlevel\u001b[0m\u001b[0;34m(\u001b[0m\u001b[0;34m)\u001b[0m\u001b[0;34m\u001b[0m\u001b[0;34m\u001b[0m\u001b[0m\n\u001b[0m\u001b[1;32m      5\u001b[0m \u001b[0;34m\u001b[0m\u001b[0m\n",
      "\u001b[0;32m~/Desktop/Neethu/Course/DATA533/DATA533_Lab2/recipes/NonVeg/nveg.py\u001b[0m in \u001b[0;36mlevel\u001b[0;34m()\u001b[0m\n\u001b[1;32m      7\u001b[0m     \u001b[0mlevel\u001b[0m \u001b[0;34m=\u001b[0m \u001b[0minput\u001b[0m\u001b[0;34m(\u001b[0m\u001b[0;34m\"Easy , Medium , Hard :\"\u001b[0m\u001b[0;34m)\u001b[0m\u001b[0;34m\u001b[0m\u001b[0;34m\u001b[0m\u001b[0m\n\u001b[1;32m      8\u001b[0m     \u001b[0;32mif\u001b[0m \u001b[0mlevel\u001b[0m \u001b[0;34m==\u001b[0m \u001b[0;34m\"Easy\"\u001b[0m\u001b[0;34m:\u001b[0m\u001b[0;34m\u001b[0m\u001b[0;34m\u001b[0m\u001b[0m\n\u001b[0;32m----> 9\u001b[0;31m         \u001b[0mnv\u001b[0m\u001b[0;34m.\u001b[0m\u001b[0measy\u001b[0m\u001b[0;34m(\u001b[0m\u001b[0;34m)\u001b[0m\u001b[0;34m\u001b[0m\u001b[0;34m\u001b[0m\u001b[0m\n\u001b[0m",
      "\u001b[0;31mAttributeError\u001b[0m: module 'recipes.NonVeg' has no attribute 'easy'"
     ]
    }
   ],
   "source": [
    "if perf == \"Vegetarian\":\n",
    "    lev=veg.level()\n",
    "else:\n",
    "    n\n",
    "    lev=nveg.level()\n",
    "    "
   ]
  },
  {
   "cell_type": "code",
   "execution_count": null,
   "id": "749f7159-3756-48ba-baeb-5442ebd222f6",
   "metadata": {},
   "outputs": [],
   "source": [
    "if nlev == \"Easy\":\n",
    "    ne.easy()\n",
    "elif nlev == \"Medium\":\n",
    "    ne.intermediate()\n",
    "else:\n",
    "    ne.difficult()\n",
    "    "
   ]
  }
 ],
 "metadata": {
  "kernelspec": {
   "display_name": "Python 3",
   "language": "python",
   "name": "python3"
  },
  "language_info": {
   "codemirror_mode": {
    "name": "ipython",
    "version": 3
   },
   "file_extension": ".py",
   "mimetype": "text/x-python",
   "name": "python",
   "nbconvert_exporter": "python",
   "pygments_lexer": "ipython3",
   "version": "3.9.5"
  }
 },
 "nbformat": 4,
 "nbformat_minor": 5
}

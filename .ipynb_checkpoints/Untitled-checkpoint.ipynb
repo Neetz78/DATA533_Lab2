{
 "cells": [
  {
   "cell_type": "code",
   "execution_count": 1,
   "id": "a717400a-14d7-40c6-a5ee-c60f0a9c18d4",
   "metadata": {},
   "outputs": [],
   "source": [
    "import pandas as pd\n",
    "import recipes.Veg.veg as veg\n",
    "import recipes.NonVeg.nveg as nveg\n",
    "from recipes.Veg import easy,intermediate,difficult\n",
    "import recipes.NonVeg.easy as ne"
   ]
  },
  {
   "cell_type": "code",
   "execution_count": 2,
   "id": "a9867d49-e270-4593-8184-d5473bbd06b4",
   "metadata": {},
   "outputs": [],
   "source": [
    "data = pd.read_csv(\"Recipes.csv\",encoding = \"ISO-8859-1\", engine='python')"
   ]
  },
  {
   "cell_type": "code",
   "execution_count": 3,
   "id": "9ff3378a-1221-485a-8595-631870a7e65d",
   "metadata": {},
   "outputs": [],
   "source": [
    "#v= input(f\"{data.I[1],data.I[2],data.I[3],data.I[4],data.I[7],data.I[8],data.I[9]}: \")\n",
    "\n",
    "#v= input(f\"{data.I[1],data.I[2],data.I[3],data.I[4],data.I[7],data.I[8],data.I[9],data.I[10],data.I[11],,data.I[12],data.I[13],data.I[14],,data.I[15],data.I[16],data.I[18]}: \")"
   ]
  },
  {
   "cell_type": "code",
   "execution_count": 3,
   "id": "84cec6d7-9e49-4db9-9484-7e125b4583e7",
   "metadata": {},
   "outputs": [
    {
     "name": "stdout",
     "output_type": "stream",
     "text": [
      "Please select your food preference\n"
     ]
    },
    {
     "name": "stdin",
     "output_type": "stream",
     "text": [
      "Vegetarian or Non-Vegetarian : Vegetarian\n"
     ]
    },
    {
     "name": "stdout",
     "output_type": "stream",
     "text": [
      "Choose the difficulty level\n"
     ]
    },
    {
     "name": "stdin",
     "output_type": "stream",
     "text": [
      "Easy , Medium , Hard : Medium\n"
     ]
    },
    {
     "name": "stdout",
     "output_type": "stream",
     "text": [
      "Please select from the below ingredients\n"
     ]
    },
    {
     "name": "stdin",
     "output_type": "stream",
     "text": [
      "('Bread', 'Milk', 'Flour', 'Rice', 'Carrot', 'Potato', 'Brocolli', 'Onion', 'Cheese', 'Oats', 'Lentils', 'Noodles', 'Pasta', 'Corn', 'Spinach'): Rice\n"
     ]
    },
    {
     "name": "stdout",
     "output_type": "stream",
     "text": [
      "Choose one dish from below choices\n"
     ]
    },
    {
     "name": "stdin",
     "output_type": "stream",
     "text": [
      "['Sushi', 'Fried rice']: Sushi\n"
     ]
    },
    {
     "name": "stdout",
     "output_type": "stream",
     "text": [
      "Recipe blog link: https://www.allrecipes.com/recipe/99211/perfect-sushi-rice/ \n",
      "\n",
      "Youtube video link: https://www.youtube.com/watch?v=joweUxpHaqc \n",
      "\n"
     ]
    }
   ],
   "source": [
    "print(\"Please select your food preference\")\n",
    "perf = input(\"Vegetarian or Non-Vegetarian :\")\n",
    "if perf == \"Vegetarian\":\n",
    "    lev = veg.level()\n",
    "    if lev == \"Easy\":\n",
    "        a=easy.easy(data)\n",
    "        a.select()\n",
    "        a.search()\n",
    "        a.display()\n",
    "    elif lev == \"Medium\":\n",
    "        a=intermediate.medium(data)\n",
    "        a.select()\n",
    "        a.search()\n",
    "        a.display()\n",
    "    else:\n",
    "        a=difficult.difficult(data)\n",
    "        a.select()\n",
    "        a.search()\n",
    "        a.display()\n",
    "    \n",
    "else:\n",
    "    nlev = nveg.level()\n",
    "    if nlev == \"Easy\":\n",
    "        ne.eing(data)\n",
    "    elif nlev == \"Medium\":\n",
    "        ne.ming(data)\n",
    "    else:\n",
    "        ne.ding(data)\n",
    "   "
   ]
  },
  {
   "cell_type": "code",
   "execution_count": 4,
   "id": "a76151e1-dc89-4acf-8435-58161fee0f25",
   "metadata": {},
   "outputs": [
    {
     "name": "stdout",
     "output_type": "stream",
     "text": [
      "Choose the difficulty level\n"
     ]
    },
    {
     "name": "stdin",
     "output_type": "stream",
     "text": [
      "Easy , Medium , Hard : Easy\n"
     ]
    },
    {
     "name": "stdout",
     "output_type": "stream",
     "text": [
      "Please select from the below ingredients\n"
     ]
    },
    {
     "name": "stdin",
     "output_type": "stream",
     "text": [
      "('Bread', 'Milk', 'Flour', 'Rice', 'Carrot', 'Potato', 'Brocolli', 'Onion', 'Cheese', 'Oats', 'Lentils', 'Noodles', 'Pasta', 'Corn', 'Spinach'): Spinach\n"
     ]
    },
    {
     "name": "stdout",
     "output_type": "stream",
     "text": [
      "Choose one dish from below choices\n"
     ]
    },
    {
     "name": "stdin",
     "output_type": "stream",
     "text": [
      "['Spinach and corn', 'Spinach soup']: Spinach soup\n"
     ]
    },
    {
     "name": "stdout",
     "output_type": "stream",
     "text": [
      "Recipe blog link: https://www.delish.com/cooking/recipe-ideas/a25621667/spinach-soup-recipe/ \n",
      "\n",
      "Youtube video link: https://www.marthastewart.com/972051/spinach-cream-soup \n",
      "\n"
     ]
    }
   ],
   "source": []
  },
  {
   "cell_type": "code",
   "execution_count": null,
   "id": "cb42f2d0-3863-47ea-a020-93448e699584",
   "metadata": {},
   "outputs": [],
   "source": []
  }
 ],
 "metadata": {
  "kernelspec": {
   "display_name": "Python 3",
   "language": "python",
   "name": "python3"
  },
  "language_info": {
   "codemirror_mode": {
    "name": "ipython",
    "version": 3
   },
   "file_extension": ".py",
   "mimetype": "text/x-python",
   "name": "python",
   "nbconvert_exporter": "python",
   "pygments_lexer": "ipython3",
   "version": "3.9.5"
  }
 },
 "nbformat": 4,
 "nbformat_minor": 5
}

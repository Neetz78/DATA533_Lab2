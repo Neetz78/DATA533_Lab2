{
 "cells": [
  {
   "cell_type": "code",
   "execution_count": 1,
   "id": "a717400a-14d7-40c6-a5ee-c60f0a9c18d4",
   "metadata": {},
   "outputs": [],
   "source": [
    "import pandas as pd\n",
    "import recipes.Veg.veg as veg\n",
    "import recipes.NonVeg.nveg as nveg\n",
    "import recipes.Veg.easy as e\n",
    "import recipes.NonVeg.easy as ne"
   ]
  },
  {
   "cell_type": "code",
   "execution_count": 71,
   "id": "a9867d49-e270-4593-8184-d5473bbd06b4",
   "metadata": {},
   "outputs": [
    {
     "data": {
      "text/plain": [
       "'https://www.youtube.com/watch?v=JuK-RtjLOfc'"
      ]
     },
     "execution_count": 71,
     "metadata": {},
     "output_type": "execute_result"
    }
   ],
   "source": [
    "data = pd.read_csv(\"Recipes.csv\",encoding = \"ISO-8859-1\", engine='python')\n",
    "\n",
    "#data.I(\"Potato\")\n",
    "#data.loc[data['I'] == \"Potato\"]\n",
    "#a=data[data['I'] == \"Potato\"].index.item()\n",
    "#a\n",
    "#data.head(5)\n",
    "data\n",
    "b = data.Y2[2].split(\" \")\n",
    "b[2]"
   ]
  },
  {
   "cell_type": "code",
   "execution_count": 3,
   "id": "9ff3378a-1221-485a-8595-631870a7e65d",
   "metadata": {},
   "outputs": [],
   "source": [
    "#v= input(f\"{data.I[1],data.I[2],data.I[3],data.I[4],data.I[7],data.I[8],data.I[9]}: \")\n",
    "\n",
    "#v= input(f\"{data.I[1],data.I[2],data.I[3],data.I[4],data.I[7],data.I[8],data.I[9],data.I[10],data.I[11],,data.I[12],data.I[13],data.I[14],,data.I[15],data.I[16],data.I[18]}: \")"
   ]
  },
  {
   "cell_type": "code",
   "execution_count": 6,
   "id": "84cec6d7-9e49-4db9-9484-7e125b4583e7",
   "metadata": {},
   "outputs": [
    {
     "name": "stdout",
     "output_type": "stream",
     "text": [
      "Please select your food preference\n"
     ]
    },
    {
     "name": "stdin",
     "output_type": "stream",
     "text": [
      "Vegetarian or Non-Vegetarian : Non-Vegetarian\n"
     ]
    }
   ],
   "source": [
    "print(\"Please select your food preference\")\n",
    "perf = input(\"Vegetarian or Non-Vegetarian :\")\n"
   ]
  },
  {
   "cell_type": "code",
   "execution_count": 7,
   "id": "a76151e1-dc89-4acf-8435-58161fee0f25",
   "metadata": {},
   "outputs": [
    {
     "name": "stdout",
     "output_type": "stream",
     "text": [
      "Choose the difficulty level\n"
     ]
    },
    {
     "name": "stdin",
     "output_type": "stream",
     "text": [
      "Easy , Medium , Hard : Easy\n"
     ]
    },
    {
     "data": {
      "text/plain": [
       "'Easy'"
      ]
     },
     "execution_count": 7,
     "metadata": {},
     "output_type": "execute_result"
    }
   ],
   "source": [
    "if perf == \"Vegetarian\":\n",
    "    lev = veg.level()\n",
    "else:\n",
    "    nlev = nveg.level()\n",
    "nlev"
   ]
  },
  {
   "cell_type": "code",
   "execution_count": 8,
   "id": "749f7159-3756-48ba-baeb-5442ebd222f6",
   "metadata": {},
   "outputs": [
    {
     "name": "stdout",
     "output_type": "stream",
     "text": [
      "Please select from the below ingredients\n"
     ]
    },
    {
     "name": "stdin",
     "output_type": "stream",
     "text": [
      "('Chicken', 'Egg', 'Fish', 'Lamb', 'Spinach', 'Carrot'):  Egg\n"
     ]
    }
   ],
   "source": [
    "if nlev == \"Easy\":\n",
    "    ne.eing(data)\n",
    "elif nlev == \"Medium\":\n",
    "    ne.ming(data)\n",
    "else:\n",
    "    ne.ding(data)\n",
    "    "
   ]
  },
  {
   "cell_type": "code",
   "execution_count": null,
   "id": "96aa4614-befd-4d9d-ac0d-4842f05f363b",
   "metadata": {},
   "outputs": [],
   "source": []
  }
 ],
 "metadata": {
  "kernelspec": {
   "display_name": "Python 3",
   "language": "python",
   "name": "python3"
  },
  "language_info": {
   "codemirror_mode": {
    "name": "ipython",
    "version": 3
   },
   "file_extension": ".py",
   "mimetype": "text/x-python",
   "name": "python",
   "nbconvert_exporter": "python",
   "pygments_lexer": "ipython3",
   "version": "3.9.5"
  }
 },
 "nbformat": 4,
 "nbformat_minor": 5
}

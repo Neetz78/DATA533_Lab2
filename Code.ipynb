{
 "cells": [
  {
   "cell_type": "code",
   "execution_count": 4,
   "id": "6ac01542-2e3d-4118-9be3-2fc86be2d6b8",
   "metadata": {},
   "outputs": [],
   "source": [
    "from recipes import recipe as r"
   ]
  },
  {
   "cell_type": "code",
   "execution_count": null,
   "id": "23cb69c5-2539-4c63-9645-5e4a2303e215",
   "metadata": {},
   "outputs": [],
   "source": []
  },
  {
   "cell_type": "code",
   "execution_count": 2,
   "id": "2caf5680-0bb9-4a51-85a4-e117f779203d",
   "metadata": {},
   "outputs": [
    {
     "name": "stderr",
     "output_type": "stream",
     "text": [
      "test_diff_cal (__main__.TestNutrition) ... ok\n",
      "test_easy_cal (__main__.TestNutrition) ... ok\n",
      "test_medium_cal (__main__.TestNutrition) ... "
     ]
    },
    {
     "name": "stdout",
     "output_type": "stream",
     "text": [
      "Calorie count: 200 \n",
      "\n",
      "Calorie count: 206 \n",
      "\n",
      "Calorie count: 400 \n",
      "\n",
      "Calorie count: 165 \n",
      "\n",
      "Calorie count: 302 \n",
      "\n",
      "Calorie count: 155 \n",
      "\n",
      "Calorie count: 1 \n",
      "\n",
      "Calorie count: 233 \n",
      "\n",
      "Calorie count: 99 \n",
      "\n",
      "Calorie count: 43 \n",
      "\n",
      "Calorie count: 497 \n",
      "\n",
      "Calorie count: 90 \n",
      "\n",
      "Calorie count: 249 \n",
      "\n",
      "Calorie count: 606 \n",
      "\n",
      "Calorie count: 290 \n",
      "\n"
     ]
    },
    {
     "name": "stderr",
     "output_type": "stream",
     "text": [
      "ok\n",
      "\n",
      "----------------------------------------------------------------------\n",
      "Ran 3 tests in 0.018s\n",
      "\n",
      "OK\n"
     ]
    },
    {
     "data": {
      "text/plain": [
       "<unittest.main.TestProgram at 0x7fe10840d1f0>"
      ]
     },
     "execution_count": 2,
     "metadata": {},
     "output_type": "execute_result"
    }
   ],
   "source": [
    "import unittest\n",
    "import recipes.Veg.nutrition as n\n",
    "import pandas as pd\n",
    "\n",
    "class TestNutrition(unittest.TestCase):\n",
    "    def setUp(self):\n",
    "        self.x=pd.read_csv(\"/Users/dishadh/Desktop/data533 collaborative soft dev/DATA533_Lab2/Recipes.csv\")\n",
    "    def test_easy_cal(self):\n",
    "        self.assertEqual(n.edisplay(self.x, \"Boiled eggs\", 0), 155)\n",
    "        self.assertEqual(n.edisplay(self.x, \"Tea\", 2), 1)\n",
    "        self.assertEqual(n.edisplay(self.x, \"Pan fried fish\", 6), 233)\n",
    "        self.assertEqual(n.edisplay(self.x, \"Stir fried brocolli\", 9), 99)\n",
    "        self.assertEqual(n.edisplay(self.x, \"Sprouts\", 13), 43)\n",
    "    def test_medium_cal(self):\n",
    "        self.assertEqual(n.mdisplay(self.x, \"Sandwich\", 1), 497)\n",
    "        self.assertEqual(n.mdisplay(self.x, \"Crepes\", 3), 90)\n",
    "        self.assertEqual(n.mdisplay(self.x, \"Fish fingers\", 6), 249)\n",
    "        self.assertEqual(n.mdisplay(self.x, \"Twisted potato\", 8), 606)\n",
    "        self.assertEqual(n.mdisplay(self.x, \"Chopsuey\", 14), 290)\n",
    "    def test_diff_cal(self):\n",
    "        self.assertEqual(n.ddisplay(self.x, \"Devils eggs\", 0), 200)\n",
    "        self.assertEqual(n.ddisplay(self.x, \"Kulfi\", 2), 206)\n",
    "        self.assertEqual(n.ddisplay(self.x, \"Chicken Biryani\", 5), 400)\n",
    "        self.assertEqual(n.ddisplay(self.x, \"Cajun spiced potato\", 8), 165)\n",
    "        self.assertEqual(n.ddisplay(self.x, \"Lasagna\", 15), 302)\n",
    "\n",
    "unittest.main(argv=[''], verbosity=2, exit=False)\n",
    "\n"
   ]
  },
  {
   "cell_type": "code",
   "execution_count": 2,
   "id": "7c054178-5725-49a4-bba3-4fdbaf6c6775",
   "metadata": {},
   "outputs": [
    {
     "name": "stderr",
     "output_type": "stream",
     "text": [
      "\n",
      "----------------------------------------------------------------------\n",
      "Ran 0 tests in 0.000s\n",
      "\n",
      "OK\n"
     ]
    }
   ],
   "source": [
    "import recipes.NonVeg.TestNonVegNut"
   ]
  },
  {
   "cell_type": "code",
   "execution_count": null,
   "id": "a17a3d15-f398-4000-abfc-8b658616c79c",
   "metadata": {},
   "outputs": [],
   "source": []
  },
  {
   "cell_type": "code",
   "execution_count": null,
   "id": "d7d6fc28-2eee-41e4-96ea-3a426cc7a026",
   "metadata": {},
   "outputs": [],
   "source": []
  },
  {
   "cell_type": "code",
   "execution_count": null,
   "id": "9d274aa1-f0de-4d45-ad36-493c776c8484",
   "metadata": {},
   "outputs": [],
   "source": []
  },
  {
   "cell_type": "code",
   "execution_count": null,
   "id": "0da873dd-799c-4641-ad71-b4b30b0155ab",
   "metadata": {},
   "outputs": [],
   "source": []
  },
  {
   "cell_type": "code",
   "execution_count": null,
   "id": "7b8df23a-76a0-4d69-8205-d40678b87ba1",
   "metadata": {},
   "outputs": [],
   "source": []
  },
  {
   "cell_type": "code",
   "execution_count": null,
   "id": "f994c9f7-3fd4-4c32-84ed-e2d7028d6655",
   "metadata": {},
   "outputs": [],
   "source": []
  },
  {
   "cell_type": "code",
   "execution_count": null,
   "id": "2fa54668-4bee-4af0-8051-b08c8f01d3ae",
   "metadata": {},
   "outputs": [],
   "source": []
  },
  {
   "cell_type": "code",
   "execution_count": 2,
   "id": "d9f96731-f8a5-425e-ad09-0264e14949f3",
   "metadata": {},
   "outputs": [
    {
     "name": "stderr",
     "output_type": "stream",
     "text": [
      "...."
     ]
    },
    {
     "name": "stdout",
     "output_type": "stream",
     "text": [
      "Set up\n",
      "A\n",
      "Set up\n",
      "B\n",
      "Set up\n",
      "C\n",
      "Set up\n",
      "D\n"
     ]
    },
    {
     "name": "stderr",
     "output_type": "stream",
     "text": [
      "\n",
      "----------------------------------------------------------------------\n",
      "Ran 4 tests in 0.003s\n",
      "\n",
      "OK\n"
     ]
    },
    {
     "data": {
      "text/plain": [
       "<unittest.main.TestProgram at 0x7f8a4186bb20>"
      ]
     },
     "execution_count": 2,
     "metadata": {},
     "output_type": "execute_result"
    }
   ],
   "source": [
    "\n"
   ]
  },
  {
   "cell_type": "code",
   "execution_count": null,
   "id": "347d17ac-2304-4824-92b8-a84556991eb1",
   "metadata": {},
   "outputs": [],
   "source": []
  }
 ],
 "metadata": {
  "kernelspec": {
   "display_name": "Python 3",
   "language": "python",
   "name": "python3"
  },
  "language_info": {
   "codemirror_mode": {
    "name": "ipython",
    "version": 3
   },
   "file_extension": ".py",
   "mimetype": "text/x-python",
   "name": "python",
   "nbconvert_exporter": "python",
   "pygments_lexer": "ipython3",
   "version": "3.9.5"
  }
 },
 "nbformat": 4,
 "nbformat_minor": 5
}

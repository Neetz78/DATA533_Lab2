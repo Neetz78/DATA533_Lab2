{
 "cells": [
  {
   "cell_type": "code",
   "execution_count": 1,
   "id": "6ac01542-2e3d-4118-9be3-2fc86be2d6b8",
   "metadata": {},
   "outputs": [],
   "source": [
    "from recipes import recipe as r"
   ]
  },
  {
   "cell_type": "code",
   "execution_count": 5,
   "id": "23cb69c5-2539-4c63-9645-5e4a2303e215",
   "metadata": {},
   "outputs": [
    {
     "name": "stdout",
     "output_type": "stream",
     "text": [
      "Please select your food preference\n"
     ]
    },
    {
     "name": "stdin",
     "output_type": "stream",
     "text": [
      "Vegetarian or Non-Vegetarian: veg\n"
     ]
    },
    {
     "name": "stdout",
     "output_type": "stream",
     "text": [
      "Choose the difficulty level\n",
      "\n"
     ]
    },
    {
     "name": "stdin",
     "output_type": "stream",
     "text": [
      "Easy , Medium , Hard : easy\n"
     ]
    },
    {
     "name": "stdout",
     "output_type": "stream",
     "text": [
      "Please select from the below ingredients:\n",
      "\n"
     ]
    },
    {
     "name": "stdin",
     "output_type": "stream",
     "text": [
      "('Bread', 'Milk', 'Flour', 'Rice', 'Carrot', 'Potato', 'Brocolli', 'Onion', 'Cheese', 'Oats', 'Lentils', 'Noodles', 'Pasta', 'Corn', 'Spinach'): Bread\n"
     ]
    },
    {
     "name": "stdout",
     "output_type": "stream",
     "text": [
      "Choose one dish from below choices:\n",
      "\n"
     ]
    },
    {
     "name": "stdin",
     "output_type": "stream",
     "text": [
      "['Bread pakoda', 'Bread Upma']: bread pakoda\n"
     ]
    },
    {
     "name": "stdout",
     "output_type": "stream",
     "text": [
      "Do you want to know the calorie count?\n",
      "\n"
     ]
    },
    {
     "name": "stdin",
     "output_type": "stream",
     "text": [
      "Yes or No Yes\n"
     ]
    }
   ],
   "source": [
    "r.recipe()"
   ]
  },
  {
   "cell_type": "code",
   "execution_count": 6,
   "id": "2caf5680-0bb9-4a51-85a4-e117f779203d",
   "metadata": {},
   "outputs": [
    {
     "name": "stdout",
     "output_type": "stream",
     "text": [
      "Help on package recipes.Veg in recipes:\n",
      "\n",
      "NAME\n",
      "    recipes.Veg\n",
      "\n",
      "PACKAGE CONTENTS\n",
      "    difficult\n",
      "    easy\n",
      "    init\n",
      "    intermediate\n",
      "    nutrition\n",
      "    veg\n",
      "\n",
      "FILE\n",
      "    (built-in)\n",
      "\n",
      "\n"
     ]
    }
   ],
   "source": [
    "help(v)"
   ]
  },
  {
   "cell_type": "code",
   "execution_count": null,
   "id": "2fa54668-4bee-4af0-8051-b08c8f01d3ae",
   "metadata": {},
   "outputs": [],
   "source": []
  }
 ],
 "metadata": {
  "kernelspec": {
   "display_name": "Python 3",
   "language": "python",
   "name": "python3"
  },
  "language_info": {
   "codemirror_mode": {
    "name": "ipython",
    "version": 3
   },
   "file_extension": ".py",
   "mimetype": "text/x-python",
   "name": "python",
   "nbconvert_exporter": "python",
   "pygments_lexer": "ipython3",
   "version": "3.9.5"
  }
 },
 "nbformat": 4,
 "nbformat_minor": 5
}

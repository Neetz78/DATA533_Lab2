{
 "cells": [
  {
   "cell_type": "code",
   "execution_count": 1,
   "id": "895d1598-e17a-4f57-afd7-9fa6838c0042",
   "metadata": {},
   "outputs": [],
   "source": [
    "import pandas as pd\n",
    "import recipes.init as recipes\n",
    "import recipes.Veg.veg as veg\n",
    "import recipes.NonVeg.nveg as nveg\n",
    "from recipes.Veg import easy as e,intermediate as i,difficult as d \n",
    "from recipes.NonVeg import easy as ne,intermediate as ni,difficult as nd"
   ]
  },
  {
   "cell_type": "code",
   "execution_count": 2,
   "id": "a055ab27-b073-4c71-b9c5-51abd6a65c06",
   "metadata": {},
   "outputs": [],
   "source": [
    "data = pd.read_csv(\"Recipes.csv\",encoding = \"ISO-8859-1\", engine='python')"
   ]
  },
  {
   "cell_type": "code",
   "execution_count": 3,
   "id": "0c22f1d9-203a-420a-ad6d-b39442763787",
   "metadata": {},
   "outputs": [
    {
     "name": "stdout",
     "output_type": "stream",
     "text": [
      "Please select your food preference\n"
     ]
    },
    {
     "name": "stdin",
     "output_type": "stream",
     "text": [
      "Vegetarian or Non-Vegetarian: ve\n"
     ]
    },
    {
     "name": "stdout",
     "output_type": "stream",
     "text": [
      "Choose the difficulty level\n",
      "\n"
     ]
    },
    {
     "name": "stdin",
     "output_type": "stream",
     "text": [
      "Easy , Medium , Hard : Easy\n"
     ]
    },
    {
     "name": "stdout",
     "output_type": "stream",
     "text": [
      "Please select from the below ingredients:\n",
      "\n"
     ]
    },
    {
     "name": "stdin",
     "output_type": "stream",
     "text": [
      "('Chicken', 'Egg', 'Fish', 'Lamb'): Chicken\n"
     ]
    },
    {
     "name": "stdout",
     "output_type": "stream",
     "text": [
      "Choose one dish from below choices:\n",
      "\n"
     ]
    },
    {
     "name": "stdin",
     "output_type": "stream",
     "text": [
      "['Pan tossed chicken', 'Chicken shawarma']: Pan tossed chicken\n"
     ]
    },
    {
     "name": "stdout",
     "output_type": "stream",
     "text": [
      "Recipe blog link:  https://cravingtasty.com/10-minute-pan-fried-chicken-breast/ \n",
      "\n",
      "Youtube video link:  https://www.youtube.com/watch?v=aBFg7s6Oe4U \n",
      "\n",
      "Do you want to know the calorie count?\n",
      "\n"
     ]
    },
    {
     "name": "stdin",
     "output_type": "stream",
     "text": [
      "Yes or No Yes\n"
     ]
    },
    {
     "name": "stdout",
     "output_type": "stream",
     "text": [
      "Calorie count: 231 \n",
      "\n"
     ]
    }
   ],
   "source": [
    "print(\"Please select your food preference\")\n",
    "perf = input(\"Vegetarian or Non-Vegetarian:\")\n",
    "if perf == \"Vegetarian\":\n",
    "    lev = veg.level()\n",
    "    if lev == \"Easy\":\n",
    "        a=e.steps(data)\n",
    "        a.seasy()\n",
    "    elif lev == \"Medium\":\n",
    "        a=i.steps(data)\n",
    "        a.smedium()\n",
    "    else:\n",
    "        a=d.steps(data)\n",
    "        a.sdiff()\n",
    "    \n",
    "else:\n",
    "    nlev = nveg.level()\n",
    "    if nlev == \"Easy\":\n",
    "        a=ne.steps(data)\n",
    "        a.seasy()\n",
    "    elif nlev == \"Medium\":\n",
    "        a=ni.steps(data)\n",
    "        a.smedium()\n",
    "    else:\n",
    "        a=nd.steps(data)\n",
    "        a.sdiff()\n"
   ]
  },
  {
   "cell_type": "code",
   "execution_count": 1,
   "id": "6ac01542-2e3d-4118-9be3-2fc86be2d6b8",
   "metadata": {},
   "outputs": [],
   "source": [
    "from recipes import recipe as r"
   ]
  },
  {
   "cell_type": "code",
   "execution_count": 2,
   "id": "23cb69c5-2539-4c63-9645-5e4a2303e215",
   "metadata": {},
   "outputs": [
    {
     "name": "stdout",
     "output_type": "stream",
     "text": [
      "Please select your food preference\n"
     ]
    },
    {
     "name": "stdin",
     "output_type": "stream",
     "text": [
      "Vegetarian or Non-Vegetarian: Vegetarian\n"
     ]
    },
    {
     "name": "stdout",
     "output_type": "stream",
     "text": [
      "Choose the difficulty level\n",
      "\n"
     ]
    },
    {
     "name": "stdin",
     "output_type": "stream",
     "text": [
      "Easy , Medium , Hard : EWasy\n"
     ]
    },
    {
     "name": "stdout",
     "output_type": "stream",
     "text": [
      "Please select from the below ingredients:\n",
      "\n"
     ]
    },
    {
     "name": "stdin",
     "output_type": "stream",
     "text": [
      "('Bread', 'Milk', 'Flour', 'Rice', 'Carrot', 'Potato', 'Brocolli', 'Onion', 'Cheese', 'Oats', 'Lentils', 'Noodles', 'Pasta', 'Corn', 'Spinach'): Flour\n"
     ]
    },
    {
     "name": "stdout",
     "output_type": "stream",
     "text": [
      "Choose one dish from below choices:\n",
      "\n"
     ]
    },
    {
     "name": "stdin",
     "output_type": "stream",
     "text": [
      "['Tacos', 'Muffins']: Tacos\n"
     ]
    },
    {
     "name": "stdout",
     "output_type": "stream",
     "text": [
      "Recipe blog link:  https://www.thewholesomedish.com/the-best-homemade-tacos/ \n",
      "\n",
      "Youtube video link:  https://www.youtube.com/watch?v=9xdAyhtP8vs \n",
      "\n",
      "Do you want to know the calorie count?\n",
      "\n"
     ]
    },
    {
     "name": "stdin",
     "output_type": "stream",
     "text": [
      "Yes or No Yes\n"
     ]
    },
    {
     "name": "stdout",
     "output_type": "stream",
     "text": [
      "Calorie count: 226 \n",
      "\n"
     ]
    }
   ],
   "source": [
    "r.recipe()"
   ]
  },
  {
   "cell_type": "code",
   "execution_count": null,
   "id": "2caf5680-0bb9-4a51-85a4-e117f779203d",
   "metadata": {},
   "outputs": [],
   "source": []
  }
 ],
 "metadata": {
  "kernelspec": {
   "display_name": "Python 3",
   "language": "python",
   "name": "python3"
  },
  "language_info": {
   "codemirror_mode": {
    "name": "ipython",
    "version": 3
   },
   "file_extension": ".py",
   "mimetype": "text/x-python",
   "name": "python",
   "nbconvert_exporter": "python",
   "pygments_lexer": "ipython3",
   "version": "3.9.5"
  }
 },
 "nbformat": 4,
 "nbformat_minor": 5
}
